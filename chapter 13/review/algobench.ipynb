{
 "cells": [
  {
   "cell_type": "code",
   "execution_count": 1,
   "metadata": {},
   "outputs": [
    {
     "data": {
      "text/plain": [
       "<__main__.MyGui at 0x26a7e4b6680>"
      ]
     },
     "execution_count": 1,
     "metadata": {},
     "output_type": "execute_result"
    }
   ],
   "source": [
    "# 1\n",
    "import tkinter\n",
    "class MyGui:\n",
    "    def __init__(self):\n",
    "        self.mainwindow = tkinter.Tk()\n",
    "        self.label = tkinter.Label(self.mainwindow,text=\"Programming is Fun\")\n",
    "        self.label.pack()\n",
    "        tkinter.mainloop()\n",
    "\n",
    "MyGui()"
   ]
  },
  {
   "cell_type": "code",
   "execution_count": 2,
   "metadata": {},
   "outputs": [
    {
     "data": {
      "text/plain": [
       "<__main__.MyGui at 0x26a7e4b6620>"
      ]
     },
     "execution_count": 2,
     "metadata": {},
     "output_type": "execute_result"
    }
   ],
   "source": [
    "# 2\n",
    "import tkinter\n",
    "class MyGui:\n",
    "    def __init__(self):\n",
    "        self.mainwindow = tkinter.Tk()\n",
    "        self.label1 = tkinter.Label(self.mainwindow,text=\"Programming is Fun 1\")\n",
    "        self.label2 = tkinter.Label(self.mainwindow,text=\"Programming is Fun 2\")\n",
    "        self.label1.pack(side=\"left\")\n",
    "        self.label2.pack(side=\"left\")\n",
    "        tkinter.mainloop()\n",
    "\n",
    "MyGui()"
   ]
  },
  {
   "cell_type": "code",
   "execution_count": 5,
   "metadata": {},
   "outputs": [
    {
     "data": {
      "text/plain": [
       "<__main__.MyGui at 0x26a7e574cd0>"
      ]
     },
     "execution_count": 5,
     "metadata": {},
     "output_type": "execute_result"
    }
   ],
   "source": [
    "# 3\n",
    "import tkinter\n",
    "class MyGui:\n",
    "    def __init__(self):\n",
    "        self.mainwindow = tkinter.Tk()\n",
    "        self.frame = tkinter.Frame(self.mainwindow)\n",
    "        tkinter.Label(self.frame,text=\"Hello\").pack()\n",
    "        self.frame.pack()\n",
    "        tkinter.mainloop()\n",
    "\n",
    "MyGui()\n"
   ]
  },
  {
   "cell_type": "code",
   "execution_count": 10,
   "metadata": {},
   "outputs": [],
   "source": [
    "# 4\n",
    "import tkinter\n",
    "from tkinter import messagebox\n",
    "class MyGui:\n",
    "    def __init__(self):\n",
    "        self.mainwindow = tkinter.Tk()\n",
    "        self.label = tkinter.Label(self.mainwindow,text=\"Programming is Fun\")\n",
    "        self.label.pack()\n",
    "        tkinter.messagebox.showinfo(\"Response\", \"Thanks for clicking the button.\")\n",
    "        tkinter.mainloop()\n",
    "\n",
    "MyGui()"
   ]
  },
  {
   "cell_type": "code",
   "execution_count": 6,
   "metadata": {},
   "outputs": [
    {
     "name": "stdout",
     "output_type": "stream",
     "text": [
      "called\n",
      "called\n",
      "called\n",
      "called\n",
      "called\n",
      "called\n",
      "called\n",
      "called\n",
      "called\n",
      "called\n",
      "called\n",
      "called\n"
     ]
    },
    {
     "data": {
      "text/plain": [
       "<__main__.MyGui at 0x1f332e2b550>"
      ]
     },
     "execution_count": 6,
     "metadata": {},
     "output_type": "execute_result"
    }
   ],
   "source": [
    "# 5\n",
    "import tkinter\n",
    "class MyGui:\n",
    "    def __init__(self):\n",
    "        self.i = 1\n",
    "        self.mainwindow = tkinter.Tk()\n",
    "        self.btnframe = tkinter.Frame(self.mainwindow)\n",
    "        \n",
    "        self.value = tkinter.StringVar()\n",
    "        self.label = tkinter.Label(self.mainwindow,text=\"Programming is Fun\")\n",
    "        self.out = tkinter.Label(self.mainwindow,textvariable=self.value)\n",
    "        \n",
    "        self.label.pack()\n",
    "        self.out.pack()\n",
    "\n",
    "        self.btn = tkinter.Button(self.btnframe,text=\"Calculate\",command=self.calculate)\n",
    "        self.btn.pack()\n",
    "\n",
    "        self.btnframe.pack()\n",
    "        tkinter.mainloop()\n",
    "    def calculate(self):\n",
    "        self.value.set(\"Called\"+str(self.i))\n",
    "        self.i += 1\n",
    "        print(\"called\")\n",
    "\n",
    "MyGui()"
   ]
  },
  {
   "cell_type": "code",
   "execution_count": 7,
   "metadata": {},
   "outputs": [
    {
     "data": {
      "text/plain": [
       "<__main__.MyGui at 0x1f332caa0b0>"
      ]
     },
     "execution_count": 7,
     "metadata": {},
     "output_type": "execute_result"
    }
   ],
   "source": [
    "# 6\n",
    "import tkinter\n",
    "class MyGui:\n",
    "    def __init__(self):\n",
    "        self.i = 1\n",
    "        self.mainwindow = tkinter.Tk()\n",
    "      \n",
    "\n",
    "        self.btn = tkinter.Button(self.mainwindow,text=\"Quit\",command=self.mainwindow.destroy)\n",
    "        self.btn.pack()\n",
    "\n",
    "        tkinter.mainloop()\n",
    "   \n",
    "\n",
    "MyGui()"
   ]
  },
  {
   "cell_type": "code",
   "execution_count": 15,
   "metadata": {},
   "outputs": [
    {
     "name": "stdout",
     "output_type": "stream",
     "text": [
      "called thabel\n"
     ]
    },
    {
     "data": {
      "text/plain": [
       "<__main__.MyGui at 0x1f332e2a140>"
      ]
     },
     "execution_count": 15,
     "metadata": {},
     "output_type": "execute_result"
    }
   ],
   "source": [
    "# 7\n",
    "import tkinter\n",
    "class MyGui:\n",
    "    def __init__(self):\n",
    "        self.i = 1\n",
    "        self.mainwindow = tkinter.Tk()\n",
    "        self.btnframe = tkinter.Frame(self.mainwindow)\n",
    "        \n",
    "        self.value = tkinter.StringVar()\n",
    "        self.label = tkinter.Label(self.mainwindow,text=\"Programming is Fun\")\n",
    "        self.data_entry = tkinter.Entry(self.mainwindow)\n",
    "        self.out = tkinter.Label(self.mainwindow,textvariable=self.value)\n",
    "        \n",
    "\n",
    "        self.label.pack(side=\"left\")\n",
    "        self.data_entry.pack(side=\"left\")\n",
    "        self.out.pack()\n",
    "\n",
    "        self.btn = tkinter.Button(self.btnframe,text=\"Convert\",command=self.calculate)\n",
    "        self.btn.pack(side=\"bottom\")\n",
    "\n",
    "        self.btnframe.pack(side=\"bottom\",padx=10,pady=10)\n",
    "        tkinter.mainloop()\n",
    "    def calculate(self):\n",
    "        var = self.data_entry.get()\n",
    "        self.value.set(\"Called\"+str(self.i)+var)\n",
    "        self.i += 1\n",
    "        print(\"called\",var)\n",
    "\n",
    "MyGui()"
   ]
  },
  {
   "cell_type": "code",
   "execution_count": 27,
   "metadata": {},
   "outputs": [
    {
     "data": {
      "text/plain": [
       "<__main__.MyGui at 0x1f3383af310>"
      ]
     },
     "execution_count": 27,
     "metadata": {},
     "output_type": "execute_result"
    }
   ],
   "source": [
    "# 8\n",
    "import tkinter\n",
    "class MyGui:\n",
    "    def __init__(self):\n",
    "        self.mainwindow = tkinter.Tk()\n",
    "        self.label = tkinter.Label(self.mainwindow,text=\"Programming is Fun\")\n",
    "        self.label.pack()\n",
    "        self.canvas = tkinter.Canvas(self.mainwindow, width=200, height=200)\n",
    "        self.canvas.create_line((0,0,200,200),fill=\"blue\",width=3)\n",
    "        cor = (50, 50 ,100, 100)\n",
    "        self.canvas.create_rectangle(cor,outline=\"red\",fill=\"black\")\n",
    "        self.canvas.create_oval(cor,outline=\"green\")\n",
    "        self.canvas.create_arc(20,20,180,180,start=0,extent=90,fill=\"blue\")\n",
    "        self.canvas.pack()\n",
    "        tkinter.mainloop()\n",
    "\n",
    "MyGui()"
   ]
  },
  {
   "cell_type": "code",
   "execution_count": null,
   "metadata": {},
   "outputs": [],
   "source": []
  }
 ],
 "metadata": {
  "kernelspec": {
   "display_name": "Python 3",
   "language": "python",
   "name": "python3"
  },
  "language_info": {
   "codemirror_mode": {
    "name": "ipython",
    "version": 3
   },
   "file_extension": ".py",
   "mimetype": "text/x-python",
   "name": "python",
   "nbconvert_exporter": "python",
   "pygments_lexer": "ipython3",
   "version": "3.10.11"
  }
 },
 "nbformat": 4,
 "nbformat_minor": 2
}
