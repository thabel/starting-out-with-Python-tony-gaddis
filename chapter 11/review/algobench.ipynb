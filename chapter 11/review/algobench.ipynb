{
 "cells": [
  {
   "cell_type": "code",
   "execution_count": null,
   "metadata": {},
   "outputs": [],
   "source": [
    "# 1.\n",
    "class Trout(Fish):\n",
    "    pass"
   ]
  },
  {
   "cell_type": "code",
   "execution_count": 1,
   "metadata": {},
   "outputs": [
    {
     "name": "stdout",
     "output_type": "stream",
     "text": [
      "I'm a piece of art.\n",
      "I'm a painting.\n"
     ]
    }
   ],
   "source": [
    "# 2.\n",
    "class Art:\n",
    "    def __init__(self, art_type):\n",
    "        self.__art_type = art_type\n",
    "\n",
    "    def message(self):\n",
    "        print(\"I'm a piece of art.\")\n",
    "\n",
    "\n",
    "class Painting(Art):\n",
    "    def __init__(self):\n",
    "        Art.__init__(self, \"painting\")\n",
    "\n",
    "    def message(self):\n",
    "        print(\"I'm a painting.\")\n",
    "\n",
    "\n",
    "\"\"\"\n",
    "Given these class definitions, what will the following statements display?\n",
    "a = Art('sculpture')\n",
    "p = Painting()\n",
    "a.message() #I'm a piece of art.\n",
    "p.message() #I'm a painting.\n",
    "\"\"\"\n",
    "a = Art('sculpture')\n",
    "p = Painting()\n",
    "a.message() #I'm a piece of art.\n",
    "p.message() #I'm a painting."
   ]
  },
  {
   "cell_type": "code",
   "execution_count": 2,
   "metadata": {},
   "outputs": [],
   "source": [
    "class Bird:\n",
    "    def __init__(self, bird_type):\n",
    "        self.__bird_type = bird_type\n",
    "\n",
    "class Duck(Bird):\n",
    "    def __init__(self, bird_type,duck):\n",
    "        Bird.__init__(self,bird_type)\n",
    "        self.__duck = duck"
   ]
  },
  {
   "cell_type": "code",
   "execution_count": null,
   "metadata": {},
   "outputs": [],
   "source": []
  }
 ],
 "metadata": {
  "kernelspec": {
   "display_name": "Python 3",
   "language": "python",
   "name": "python3"
  },
  "language_info": {
   "codemirror_mode": {
    "name": "ipython",
    "version": 3
   },
   "file_extension": ".py",
   "mimetype": "text/x-python",
   "name": "python",
   "nbconvert_exporter": "python",
   "pygments_lexer": "ipython3",
   "version": "3.10.11"
  }
 },
 "nbformat": 4,
 "nbformat_minor": 2
}
