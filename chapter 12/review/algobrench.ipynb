{
 "cells": [
  {
   "cell_type": "code",
   "execution_count": 1,
   "metadata": {},
   "outputs": [
    {
     "name": "stdout",
     "output_type": "stream",
     "text": [
      "test\n",
      "est\n",
      "st\n",
      "t\n"
     ]
    }
   ],
   "source": [
    "def main():\n",
    "    word = \"test\"\n",
    "    show_me(word)\n",
    "\n",
    "\n",
    "def show_me(word):\n",
    "    print(word)\n",
    "    new_word = word[1:]\n",
    "    if len(new_word) > 0:\n",
    "        show_me(new_word)\n",
    "\n",
    "\n",
    "main()"
   ]
  },
  {
   "cell_type": "code",
   "execution_count": 2,
   "metadata": {},
   "outputs": [
    {
     "name": "stdout",
     "output_type": "stream",
     "text": [
      "10\n",
      "5.0\n",
      "2.5\n",
      "1.25\n"
     ]
    }
   ],
   "source": [
    "def main():\n",
    " num = 10\n",
    " halver(num)\n",
    "def halver(number):\n",
    " print(number)\n",
    " half = number / 2\n",
    " if half >= 1:\n",
    "  halver(half)\n",
    "main()"
   ]
  },
  {
   "cell_type": "code",
   "execution_count": 3,
   "metadata": {},
   "outputs": [],
   "source": [
    "def queue(length):\n",
    " while length > 0:\n",
    "  print('Please wait.')\n",
    "  length = length - 1\n",
    " print('It is your turn.')"
   ]
  },
  {
   "cell_type": "code",
   "execution_count": 6,
   "metadata": {},
   "outputs": [
    {
     "name": "stdout",
     "output_type": "stream",
     "text": [
      "Please wait.\n",
      "Please wait.\n",
      "Please wait.\n",
      "Please wait.\n",
      "Please wait.\n",
      "It is your turn.\n"
     ]
    }
   ],
   "source": [
    "queue(5)"
   ]
  },
  {
   "cell_type": "code",
   "execution_count": 7,
   "metadata": {},
   "outputs": [],
   "source": [
    "def queue_rec(lenght):\n",
    "    if lenght == 0:\n",
    "        print(\"It's your turn\")\n",
    "    else:\n",
    "        print(\"Please wait\")\n",
    "        queue_rec(lenght-1)"
   ]
  },
  {
   "cell_type": "code",
   "execution_count": 8,
   "metadata": {},
   "outputs": [
    {
     "name": "stdout",
     "output_type": "stream",
     "text": [
      "Please wait\n",
      "Please wait\n",
      "Please wait\n",
      "Please wait\n",
      "Please wait\n",
      "It's your turn\n"
     ]
    }
   ],
   "source": [
    "queue_rec(5)"
   ]
  },
  {
   "cell_type": "code",
   "execution_count": null,
   "metadata": {},
   "outputs": [],
   "source": []
  }
 ],
 "metadata": {
  "kernelspec": {
   "display_name": "Python 3",
   "language": "python",
   "name": "python3"
  },
  "language_info": {
   "codemirror_mode": {
    "name": "ipython",
    "version": 3
   },
   "file_extension": ".py",
   "mimetype": "text/x-python",
   "name": "python",
   "nbconvert_exporter": "python",
   "pygments_lexer": "ipython3",
   "version": "3.10.11"
  }
 },
 "nbformat": 4,
 "nbformat_minor": 2
}
