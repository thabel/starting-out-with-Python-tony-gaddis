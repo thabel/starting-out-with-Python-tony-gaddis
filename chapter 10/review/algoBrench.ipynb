{
 "cells": [
  {
   "cell_type": "code",
   "execution_count": null,
   "metadata": {},
   "outputs": [],
   "source": [
    "# 1. class definition of book\n",
    "class Book:\n",
    "    def __init__(self, title, author_name, nb_pages) -> None:\n",
    "        self.__title = title\n",
    "        self.__author_name = author_name\n",
    "        self.__nb_pages = nb_pages\n",
    "\n",
    "    def __len__(self):\n",
    "        return self.__nb_pages\n",
    "\n",
    "    def __str__(self) -> str:\n",
    "        return f\"Book title={self.__title} , author_name={self.__author_name} , nb_pages={self.__nb_pages}\""
   ]
  },
  {
   "cell_type": "code",
   "execution_count": null,
   "metadata": {},
   "outputs": [],
   "source": [
    "# 2 class deinition of book\n",
    "class Book:\n",
    "    def __init__(self, title, author_name, publisher_name) -> None:\n",
    "        self.__title = title\n",
    "        self.__author_name = author_name\n",
    "        self.__publisher_name = publisher_name\n",
    "\n",
    "    def get_title(self):\n",
    "        return self.__title\n",
    "\n",
    "    def get_author_name(self):\n",
    "        return self.__author_name\n",
    "\n",
    "    def get_publisher_name(self):\n",
    "        return self.__publisher_name\n",
    "\n",
    "    def set_title(self, title):\n",
    "        self.__title = title\n",
    "\n",
    "    def set_author_name(self, author_name):\n",
    "        self.__author_name = author_name\n",
    "\n",
    "    def set_publisher_name(self, publisher_name):\n",
    "        self.__publisher_name = publisher_name\n",
    "\n",
    "    def __str__(self) -> str:\n",
    "        return f\"Book title={self.__title} , author_name={self.__author_name} , publisher_name={self.__publisher_name}\""
   ]
  },
  {
   "cell_type": "code",
   "execution_count": null,
   "metadata": {},
   "outputs": [],
   "source": [
    "# 3. UML\n",
    "\n",
    "\"\"\"\n",
    "The bank offers the following types of accounts to its customers: savings accounts, \n",
    "checking accounts, and money market accounts. Customers are allowed to deposit \n",
    "money into an account (thereby increasing its balance), withdraw money from an \n",
    "account (thereby decreasing its balance), and earn interest on the account. Each \n",
    "account has an interest rate.\n",
    "Assume that you are writing a program that will calculate the amount of interest \n",
    "earned for a bank account.\n",
    " a. Identify the potential classes in this problem domain.\n",
    " b. Refine the list to include only the necessary class or classes for this problem.\n",
    " c. Identify the responsibilities of the class or classes.\n",
    "\n",
    "\"\"\"\n",
    "\"\"\"\n",
    "a. potential classes\n",
    "\n",
    "bank\n",
    "accounts\n",
    "customers\n",
    "savings accounts\n",
    "checking accounts\n",
    "money market accounts\n",
    "money\n",
    "interest rate\n",
    "\n",
    "b.\n",
    "account\n",
    "customer\n",
    "\"\"\""
   ]
  }
 ],
 "metadata": {
  "kernelspec": {
   "display_name": "Python 3",
   "language": "python",
   "name": "python3"
  },
  "language_info": {
   "codemirror_mode": {
    "name": "ipython",
    "version": 2
   },
   "file_extension": ".py",
   "mimetype": "text/x-python",
   "name": "python",
   "nbconvert_exporter": "python",
   "pygments_lexer": "ipython2",
   "version": "2.7.6"
  }
 },
 "nbformat": 4,
 "nbformat_minor": 0
}
