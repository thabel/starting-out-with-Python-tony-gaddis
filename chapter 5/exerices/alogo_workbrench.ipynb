{
 "cells": [
  {
   "cell_type": "code",
   "execution_count": 2,
   "outputs": [],
   "source": [
    "\"\"\"\n",
    "Write a function named shout. The function should accept a string argument and\n",
    "display it in uppercase with an exclamation mark concatenated to the end\n",
    "\"\"\"\n",
    "\n",
    "def shout(string):\n",
    "    print(string.upper()+\"!\")\n",
    "shout(\"shout up\")"
   ],
   "metadata": {
    "collapsed": false,
    "pycharm": {
     "name": "#%%\n"
    }
   }
  },
  {
   "cell_type": "code",
   "execution_count": 4,
   "outputs": [
    {
     "name": "stdout",
     "output_type": "stream",
     "text": [
      "12\n"
     ]
    }
   ],
   "source": [
    "\"\"\"\n",
    "Examine the following function header, then write a statement that calls the function,\n",
    "passing 12 as an argument.\n",
    "def show_value(quantity):\n",
    "\"\"\"\n",
    "def show_value(quanity):\n",
    "    print(quanity)\n",
    "show_value(12)"
   ],
   "metadata": {
    "collapsed": false,
    "pycharm": {
     "name": "#%%\n"
    }
   }
  },
  {
   "cell_type": "code",
   "execution_count": 6,
   "outputs": [
    {
     "data": {
      "text/plain": "'\\nLook at the following function header:\\ndef my_function(a, b, c):\\n Now look at the following call to my_function:\\nmy_function(3, 2, 1)\\n When this call executes, what value will be assigned to a? What value will be assigned\\nto b? What value will be assigned to c\\n\\nans: a==3 b==2 and c==1\\n'"
     },
     "execution_count": 6,
     "metadata": {},
     "output_type": "execute_result"
    }
   ],
   "source": [
    "\"\"\"\n",
    "Look at the following function header:\n",
    "def my_function(a, b, c):\n",
    " Now look at the following call to my_function:\n",
    "my_function(3, 2, 1)\n",
    " When this call executes, what value will be assigned to a? What value will be assigned\n",
    "to b? What value will be assigned to c\n",
    "\n",
    "ans: a==3 b==2 and c==1\n",
    "\"\"\""
   ],
   "metadata": {
    "collapsed": false,
    "pycharm": {
     "name": "#%%\n"
    }
   }
  },
  {
   "cell_type": "code",
   "execution_count": 9,
   "outputs": [
    {
     "name": "stdout",
     "output_type": "stream",
     "text": [
      "1 3.4\n",
      "0 0\n",
      "1 3.4\n"
     ]
    },
    {
     "data": {
      "text/plain": "'\\nans == 1 3.4 0 0 1 3.4\\n'"
     },
     "execution_count": 9,
     "metadata": {},
     "output_type": "execute_result"
    }
   ],
   "source": [
    "def main():\n",
    " x = 1\n",
    " y = 3.4\n",
    " print(x, y)\n",
    " change_us(x, y)\n",
    " print(x, y)\n",
    "def change_us(a, b):\n",
    " a = 0\n",
    " b = 0\n",
    " print(a, b)\n",
    "main()\n",
    "\n",
    "\"\"\"\n",
    "ans == 1 3.4 0 0 1 3.4\n",
    "\"\"\""
   ],
   "metadata": {
    "collapsed": false,
    "pycharm": {
     "name": "#%%\n"
    }
   }
  },
  {
   "cell_type": "code",
   "execution_count": 11,
   "outputs": [
    {
     "data": {
      "text/plain": "'s'"
     },
     "execution_count": 11,
     "metadata": {},
     "output_type": "execute_result"
    }
   ],
   "source": [
    "\n",
    "def my_function(x, y):\n",
    " return x[y]\n",
    "my_function(x=\"testing\",y=2)"
   ],
   "metadata": {
    "collapsed": false,
    "pycharm": {
     "name": "#%%\n"
    }
   }
  },
  {
   "cell_type": "code",
   "execution_count": 13,
   "outputs": [
    {
     "data": {
      "text/plain": "58"
     },
     "execution_count": 13,
     "metadata": {},
     "output_type": "execute_result"
    }
   ],
   "source": [
    "import random\n",
    "rand = random.randrange(1,100)\n",
    "rand"
   ],
   "metadata": {
    "collapsed": false,
    "pycharm": {
     "name": "#%%\n"
    }
   }
  },
  {
   "cell_type": "code",
   "execution_count": 14,
   "outputs": [
    {
     "data": {
      "text/plain": "25.0"
     },
     "execution_count": 14,
     "metadata": {},
     "output_type": "execute_result"
    }
   ],
   "source": [
    "def half(number):\n",
    "    return number/2\n",
    "\n",
    "number = 50\n",
    "result= half(number)\n",
    "result"
   ],
   "metadata": {
    "collapsed": false,
    "pycharm": {
     "name": "#%%\n"
    }
   }
  },
  {
   "cell_type": "code",
   "execution_count": 15,
   "outputs": [
    {
     "data": {
      "text/plain": "64"
     },
     "execution_count": 15,
     "metadata": {},
     "output_type": "execute_result"
    }
   ],
   "source": [
    "def cube(num):\n",
    " return num * num * num\n",
    "\n",
    "result = cube(4)\n",
    "result"
   ],
   "metadata": {
    "collapsed": false,
    "pycharm": {
     "name": "#%%\n"
    }
   }
  },
  {
   "cell_type": "code",
   "execution_count": 16,
   "outputs": [
    {
     "data": {
      "text/plain": "40"
     },
     "execution_count": 16,
     "metadata": {},
     "output_type": "execute_result"
    }
   ],
   "source": [
    "def times_ten(param):\n",
    "    return  param*10\n",
    "\n",
    "\n",
    "times_ten(4)"
   ],
   "metadata": {
    "collapsed": false,
    "pycharm": {
     "name": "#%%\n"
    }
   }
  },
  {
   "cell_type": "code",
   "execution_count": 23,
   "outputs": [
    {
     "data": {
      "text/plain": "True"
     },
     "execution_count": 23,
     "metadata": {},
     "output_type": "execute_result"
    }
   ],
   "source": [
    "def is_valid_length(string, number):\n",
    "    return not(len(string)>number)\n",
    "\n",
    "string = \"thabel\"\n",
    "number = 10\n",
    "is_valid_length(string,number)"
   ],
   "metadata": {
    "collapsed": false,
    "pycharm": {
     "name": "#%%\n"
    }
   }
  },
  {
   "cell_type": "code",
   "execution_count": null,
   "outputs": [],
   "source": [],
   "metadata": {
    "collapsed": false,
    "pycharm": {
     "name": "#%%\n"
    }
   }
  }
 ],
 "metadata": {
  "kernelspec": {
   "display_name": "Python 3",
   "language": "python",
   "name": "python3"
  },
  "language_info": {
   "codemirror_mode": {
    "name": "ipython",
    "version": 2
   },
   "file_extension": ".py",
   "mimetype": "text/x-python",
   "name": "python",
   "nbconvert_exporter": "python",
   "pygments_lexer": "ipython2",
   "version": "2.7.6"
  }
 },
 "nbformat": 4,
 "nbformat_minor": 0
}